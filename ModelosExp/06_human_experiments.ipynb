{
 "cells": [
  {
   "cell_type": "code",
   "execution_count": 2,
   "metadata": {},
   "outputs": [],
   "source": [
    "import os; os.environ[\"CUDA_VISIBLE_DEVICES\"] = \"-1\"\n",
    "\n",
    "from tqdm.auto import tqdm\n",
    "\n",
    "from pathlib import Path\n",
    "import numpy as np\n",
    "import pandas as pd\n",
    "import scipy\n",
    "from pickle import dump, load\n",
    "import matplotlib.pyplot as plt\n",
    "import cv2\n",
    "import random\n",
    "from IPython.display import clear_output\n",
    "import tensorflow as tf\n",
    "# import plotly.express as px\n",
    "from tensorflow.keras import layers\n",
    "from functools import partial\n",
    "from PIL import Image\n",
    "import re\n",
    "\n",
    "import torch\n",
    "import piq"
   ]
  },
  {
   "cell_type": "code",
   "execution_count": 5,
   "metadata": {},
   "outputs": [],
   "source": [
    "kodim22 = pd.read_csv(\"kodim22-results.csv\")\n",
    "kodim23 = pd.read_csv(\"kodim23-results.csv\")"
   ]
  },
  {
   "cell_type": "code",
   "execution_count": 4,
   "metadata": {},
   "outputs": [
    {
     "data": {
      "text/html": [
       "<div>\n",
       "<style scoped>\n",
       "    .dataframe tbody tr th:only-of-type {\n",
       "        vertical-align: middle;\n",
       "    }\n",
       "\n",
       "    .dataframe tbody tr th {\n",
       "        vertical-align: top;\n",
       "    }\n",
       "\n",
       "    .dataframe thead th {\n",
       "        text-align: right;\n",
       "    }\n",
       "</style>\n",
       "<table border=\"1\" class=\"dataframe\">\n",
       "  <thead>\n",
       "    <tr style=\"text-align: right;\">\n",
       "      <th></th>\n",
       "      <th>x_shift::-0.1</th>\n",
       "      <th>x_shift::-0.06666666666666667</th>\n",
       "      <th>x_shift::-0.03333333333333332</th>\n",
       "      <th>x_shift::1.7763568394002505e-17</th>\n",
       "      <th>x_shift::0.033333333333333354</th>\n",
       "      <th>x_shift::0.06666666666666671</th>\n",
       "      <th>x_shift::0.1</th>\n",
       "      <th>y_shift::-0.1</th>\n",
       "      <th>y_shift::-0.06666666666666667</th>\n",
       "      <th>y_shift::-0.03333333333333332</th>\n",
       "      <th>y_shift::1.7763568394002505e-17</th>\n",
       "      <th>y_shift::0.033333333333333354</th>\n",
       "      <th>y_shift::0.06666666666666671</th>\n",
       "      <th>y_shift::0.1</th>\n",
       "    </tr>\n",
       "  </thead>\n",
       "  <tbody>\n",
       "    <tr>\n",
       "      <th>0</th>\n",
       "      <td>0.785714</td>\n",
       "      <td>0.357143</td>\n",
       "      <td>0.214286</td>\n",
       "      <td>0.071429</td>\n",
       "      <td>0.285714</td>\n",
       "      <td>0.571429</td>\n",
       "      <td>0.714286</td>\n",
       "      <td>1.0</td>\n",
       "      <td>0.928571</td>\n",
       "      <td>0.5</td>\n",
       "      <td>0.142857</td>\n",
       "      <td>0.428571</td>\n",
       "      <td>0.642857</td>\n",
       "      <td>0.857143</td>\n",
       "    </tr>\n",
       "  </tbody>\n",
       "</table>\n",
       "</div>"
      ],
      "text/plain": [
       "   x_shift::-0.1  x_shift::-0.06666666666666667  \\\n",
       "0       0.785714                       0.357143   \n",
       "\n",
       "   x_shift::-0.03333333333333332  x_shift::1.7763568394002505e-17  \\\n",
       "0                       0.214286                         0.071429   \n",
       "\n",
       "   x_shift::0.033333333333333354  x_shift::0.06666666666666671  x_shift::0.1  \\\n",
       "0                       0.285714                      0.571429      0.714286   \n",
       "\n",
       "   y_shift::-0.1  y_shift::-0.06666666666666667  \\\n",
       "0            1.0                       0.928571   \n",
       "\n",
       "   y_shift::-0.03333333333333332  y_shift::1.7763568394002505e-17  \\\n",
       "0                            0.5                         0.142857   \n",
       "\n",
       "   y_shift::0.033333333333333354  y_shift::0.06666666666666671  y_shift::0.1  \n",
       "0                       0.428571                      0.642857      0.857143  "
      ]
     },
     "execution_count": 4,
     "metadata": {},
     "output_type": "execute_result"
    }
   ],
   "source": [
    "kodim22"
   ]
  },
  {
   "cell_type": "code",
   "execution_count": 6,
   "metadata": {},
   "outputs": [
    {
     "data": {
      "text/html": [
       "<div>\n",
       "<style scoped>\n",
       "    .dataframe tbody tr th:only-of-type {\n",
       "        vertical-align: middle;\n",
       "    }\n",
       "\n",
       "    .dataframe tbody tr th {\n",
       "        vertical-align: top;\n",
       "    }\n",
       "\n",
       "    .dataframe thead th {\n",
       "        text-align: right;\n",
       "    }\n",
       "</style>\n",
       "<table border=\"1\" class=\"dataframe\">\n",
       "  <thead>\n",
       "    <tr style=\"text-align: right;\">\n",
       "      <th></th>\n",
       "      <th>x_shift::-0.1</th>\n",
       "      <th>x_shift::-0.06666666666666667</th>\n",
       "      <th>x_shift::-0.03333333333333332</th>\n",
       "      <th>x_shift::1.7763568394002505e-17</th>\n",
       "      <th>x_shift::0.033333333333333354</th>\n",
       "      <th>x_shift::0.06666666666666671</th>\n",
       "      <th>x_shift::0.1</th>\n",
       "      <th>y_shift::-0.1</th>\n",
       "      <th>y_shift::-0.06666666666666667</th>\n",
       "      <th>y_shift::-0.03333333333333332</th>\n",
       "      <th>y_shift::1.7763568394002505e-17</th>\n",
       "      <th>y_shift::0.033333333333333354</th>\n",
       "      <th>y_shift::0.06666666666666671</th>\n",
       "      <th>y_shift::0.1</th>\n",
       "    </tr>\n",
       "  </thead>\n",
       "  <tbody>\n",
       "    <tr>\n",
       "      <th>0</th>\n",
       "      <td>1.0</td>\n",
       "      <td>0.928571</td>\n",
       "      <td>0.714286</td>\n",
       "      <td>0.071429</td>\n",
       "      <td>0.428571</td>\n",
       "      <td>0.642857</td>\n",
       "      <td>0.857143</td>\n",
       "      <td>0.785714</td>\n",
       "      <td>0.571429</td>\n",
       "      <td>0.5</td>\n",
       "      <td>0.142857</td>\n",
       "      <td>0.214286</td>\n",
       "      <td>0.285714</td>\n",
       "      <td>0.357143</td>\n",
       "    </tr>\n",
       "  </tbody>\n",
       "</table>\n",
       "</div>"
      ],
      "text/plain": [
       "   x_shift::-0.1  x_shift::-0.06666666666666667  \\\n",
       "0            1.0                       0.928571   \n",
       "\n",
       "   x_shift::-0.03333333333333332  x_shift::1.7763568394002505e-17  \\\n",
       "0                       0.714286                         0.071429   \n",
       "\n",
       "   x_shift::0.033333333333333354  x_shift::0.06666666666666671  x_shift::0.1  \\\n",
       "0                       0.428571                      0.642857      0.857143   \n",
       "\n",
       "   y_shift::-0.1  y_shift::-0.06666666666666667  \\\n",
       "0       0.785714                       0.571429   \n",
       "\n",
       "   y_shift::-0.03333333333333332  y_shift::1.7763568394002505e-17  \\\n",
       "0                            0.5                         0.142857   \n",
       "\n",
       "   y_shift::0.033333333333333354  y_shift::0.06666666666666671  y_shift::0.1  \n",
       "0                       0.214286                      0.285714      0.357143  "
      ]
     },
     "execution_count": 6,
     "metadata": {},
     "output_type": "execute_result"
    }
   ],
   "source": [
    "kodim23"
   ]
  },
  {
   "cell_type": "code",
   "execution_count": null,
   "metadata": {},
   "outputs": [],
   "source": []
  },
  {
   "cell_type": "code",
   "execution_count": null,
   "metadata": {},
   "outputs": [],
   "source": []
  }
 ],
 "metadata": {
  "kernelspec": {
   "display_name": "cuda",
   "language": "python",
   "name": "python3"
  },
  "language_info": {
   "codemirror_mode": {
    "name": "ipython",
    "version": 3
   },
   "file_extension": ".py",
   "mimetype": "text/x-python",
   "name": "python",
   "nbconvert_exporter": "python",
   "pygments_lexer": "ipython3",
   "version": "3.8.15"
  },
  "orig_nbformat": 4
 },
 "nbformat": 4,
 "nbformat_minor": 2
}
